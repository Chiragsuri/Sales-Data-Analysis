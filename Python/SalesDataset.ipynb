{
 "cells": [
  {
   "cell_type": "markdown",
   "id": "8176d729-4eda-4edc-adaa-74fe211f847b",
   "metadata": {},
   "source": [
    "----------------------------------------------\n",
    "# 🧪 Synthetic Dataset Generator\n",
    "\n",
    "This notebook creates synthetic customer data for two different datasets: **2023** and **2024**.  \n",
    "The data is generated using the `Faker` library and can be used for practice, analysis, or demo projects.\n",
    "\n",
    "# Author: [Chirag Suri]\n",
    "\n",
    "----------------------------------------------\n"
   ]
  },
  {
   "cell_type": "markdown",
   "id": "7da88c4b-16ac-4880-953f-97d860392c43",
   "metadata": {},
   "source": [
    "## 📦 Import required libraries"
   ]
  },
  {
   "cell_type": "code",
   "execution_count": 18,
   "id": "e5bf2f57-8fba-4809-a1df-194e24b161c3",
   "metadata": {},
   "outputs": [],
   "source": [
    "import pandas as pd\n",
    "import numpy as np\n",
    "import random\n",
    "from faker import Faker\n",
    "from datetime import datetime\n",
    "\n",
    "# 🔁 Set seed for reproducibility\n",
    "np.random.seed(42)\n",
    "random.seed(42)\n",
    "\n",
    "# Initialise Faker\n",
    "fake = Faker()"
   ]
  },
  {
   "cell_type": "markdown",
   "id": "859f337c-4f83-4033-a288-44a21c517e09",
   "metadata": {},
   "source": [
    "## 🏗️ Generate Synthetic Data\n",
    "\n",
    "Use Faker and NumPy to create fields like state,city, date, etc."
   ]
  },
  {
   "cell_type": "markdown",
   "id": "b69ff11b-4a12-42fc-8f68-20eadafda891",
   "metadata": {},
   "source": [
    "## 🗂️ Dataset for 2024"
   ]
  },
  {
   "cell_type": "code",
   "execution_count": 19,
   "id": "de3bc5ac-79e2-4c9d-9ee8-fc5b725c5de8",
   "metadata": {},
   "outputs": [],
   "source": [
    "# Constants\n",
    "num_customers = 689\n",
    "num_products = 20\n",
    "num_orders = 1255\n",
    "categories = ['Electronics', 'Furniture', 'Clothing', 'Toys', 'Books']\n",
    "states = [\"Alabama\", \"Alaska\", \"Arizona\", \"Arkansas\", \"California\", \"Colorado\", \"Connecticut\", \"Delaware\",\n",
    "          \"Florida\", \"Georgia\", \"Hawaii\", \"Idaho\", \"Illinois\", \"Indiana\", \"Iowa\", \"Kansas\", \"Kentucky\", \"Louisiana\",\n",
    "          \"Maine\", \"Maryland\", \"Massachusetts\", \"Michigan\", \"Minnesota\", \"Mississippi\", \"Missouri\", \"Montana\",\n",
    "          \"Nebraska\", \"Nevada\", \"New Hampshire\", \"New Jersey\", \"New Mexico\", \"New York\", \"North Carolina\",\n",
    "          \"North Dakota\", \"Ohio\", \"Oklahoma\", \"Oregon\", \"Pennsylvania\", \"Rhode Island\", \"South Carolina\", \"South Dakota\",\n",
    "          \"Tennessee\", \"Texas\", \"Utah\", \"Vermont\", \"Virginia\", \"Washington\", \"West Virginia\", \"Wisconsin\", \"Wyoming\"]\n",
    "cities = {state: [fake.city() for _ in range(5)] for state in states}\n",
    "\n",
    "# Generate data\n",
    "data = []\n",
    "\n",
    "order_ids = random.sample(range(1, num_orders + 1), num_orders)  # Unique order IDs\n",
    "\n",
    "for order_id in order_ids:\n",
    "    customer_id = random.randint(1, num_customers)\n",
    "    product_id = random.randint(1, num_products)\n",
    "    state = random.choice(states)\n",
    "    city = random.choice(cities[state])\n",
    "    date = fake.date_between_dates(date_start=pd.to_datetime(\"2024-01-01\"), date_end=pd.to_datetime(\"2024-12-31\"))\n",
    "    category = random.choice(categories)\n",
    "    sales = round(random.uniform(100.0, 1000.0), 2)\n",
    "    quantity_sold = random.randint(1, 10)\n",
    "    \n",
    "    data.append([customer_id, product_id, order_id, city, state, date, category, sales, quantity_sold])"
   ]
  },
  {
   "cell_type": "markdown",
   "id": "92db8f48-2e4a-4d18-8a1b-d2032dab39b5",
   "metadata": {},
   "source": [
    "### 🧱 Convert to DataFrame\n",
    "\n",
    "Convert the generated data dictionary into a `pandas` DataFrame."
   ]
  },
  {
   "cell_type": "code",
   "execution_count": 20,
   "id": "58412de5-096b-4a40-8f6f-778a7c242133",
   "metadata": {},
   "outputs": [],
   "source": [
    "columns = [\"customer_id\", \"product_id\", \"order_id\", \"city\", \"state\", \"date\", \"product_category\", \"sales\", \"quantity_sold\"]\n",
    "df = pd.DataFrame(data, columns=columns)"
   ]
  },
  {
   "cell_type": "markdown",
   "id": "27221907-227b-4136-87eb-e39cebbc4d3a",
   "metadata": {},
   "source": [
    "### 🔍 Preview the Data\n",
    "\n",
    "Display the first 5 records to validate the structure."
   ]
  },
  {
   "cell_type": "code",
   "execution_count": 21,
   "id": "65ffc36f-c8e8-467e-b117-e9254b8fe33d",
   "metadata": {},
   "outputs": [
    {
     "name": "stdout",
     "output_type": "stream",
     "text": [
      "   customer_id  product_id  order_id               city           state  \\\n",
      "0          643           2       229        West Angela        Maryland   \n",
      "1           93          10        52       Robinsontown   Massachusetts   \n",
      "2          375          17       564     Port Kevinland  North Carolina   \n",
      "3          303          11       502  South Matthewfort        Delaware   \n",
      "4          407          18       458         East David     Mississippi   \n",
      "\n",
      "         date product_category   sales  quantity_sold  \n",
      "0  2024-06-23      Electronics  621.62              3  \n",
      "1  2024-06-05        Furniture  280.72              9  \n",
      "2  2024-11-13        Furniture  331.27              8  \n",
      "3  2024-09-28      Electronics  226.68              4  \n",
      "4  2024-06-25             Toys  112.53              9  \n"
     ]
    }
   ],
   "source": [
    "print(df.head())"
   ]
  },
  {
   "cell_type": "code",
   "execution_count": 22,
   "id": "feae7b05-b513-4915-94cd-7ebdf621ffa7",
   "metadata": {},
   "outputs": [
    {
     "data": {
      "text/html": [
       "<div>\n",
       "<style scoped>\n",
       "    .dataframe tbody tr th:only-of-type {\n",
       "        vertical-align: middle;\n",
       "    }\n",
       "\n",
       "    .dataframe tbody tr th {\n",
       "        vertical-align: top;\n",
       "    }\n",
       "\n",
       "    .dataframe thead th {\n",
       "        text-align: right;\n",
       "    }\n",
       "</style>\n",
       "<table border=\"1\" class=\"dataframe\">\n",
       "  <thead>\n",
       "    <tr style=\"text-align: right;\">\n",
       "      <th></th>\n",
       "      <th>customer_id</th>\n",
       "      <th>product_id</th>\n",
       "      <th>order_id</th>\n",
       "      <th>city</th>\n",
       "      <th>state</th>\n",
       "      <th>date</th>\n",
       "      <th>product_category</th>\n",
       "      <th>sales</th>\n",
       "      <th>quantity_sold</th>\n",
       "    </tr>\n",
       "  </thead>\n",
       "  <tbody>\n",
       "    <tr>\n",
       "      <th>0</th>\n",
       "      <td>643</td>\n",
       "      <td>2</td>\n",
       "      <td>229</td>\n",
       "      <td>West Angela</td>\n",
       "      <td>Maryland</td>\n",
       "      <td>2024-06-23</td>\n",
       "      <td>Electronics</td>\n",
       "      <td>621.62</td>\n",
       "      <td>3</td>\n",
       "    </tr>\n",
       "    <tr>\n",
       "      <th>1</th>\n",
       "      <td>93</td>\n",
       "      <td>10</td>\n",
       "      <td>52</td>\n",
       "      <td>Robinsontown</td>\n",
       "      <td>Massachusetts</td>\n",
       "      <td>2024-06-05</td>\n",
       "      <td>Furniture</td>\n",
       "      <td>280.72</td>\n",
       "      <td>9</td>\n",
       "    </tr>\n",
       "    <tr>\n",
       "      <th>2</th>\n",
       "      <td>375</td>\n",
       "      <td>17</td>\n",
       "      <td>564</td>\n",
       "      <td>Port Kevinland</td>\n",
       "      <td>North Carolina</td>\n",
       "      <td>2024-11-13</td>\n",
       "      <td>Furniture</td>\n",
       "      <td>331.27</td>\n",
       "      <td>8</td>\n",
       "    </tr>\n",
       "    <tr>\n",
       "      <th>3</th>\n",
       "      <td>303</td>\n",
       "      <td>11</td>\n",
       "      <td>502</td>\n",
       "      <td>South Matthewfort</td>\n",
       "      <td>Delaware</td>\n",
       "      <td>2024-09-28</td>\n",
       "      <td>Electronics</td>\n",
       "      <td>226.68</td>\n",
       "      <td>4</td>\n",
       "    </tr>\n",
       "    <tr>\n",
       "      <th>4</th>\n",
       "      <td>407</td>\n",
       "      <td>18</td>\n",
       "      <td>458</td>\n",
       "      <td>East David</td>\n",
       "      <td>Mississippi</td>\n",
       "      <td>2024-06-25</td>\n",
       "      <td>Toys</td>\n",
       "      <td>112.53</td>\n",
       "      <td>9</td>\n",
       "    </tr>\n",
       "  </tbody>\n",
       "</table>\n",
       "</div>"
      ],
      "text/plain": [
       "   customer_id  product_id  order_id               city           state  \\\n",
       "0          643           2       229        West Angela        Maryland   \n",
       "1           93          10        52       Robinsontown   Massachusetts   \n",
       "2          375          17       564     Port Kevinland  North Carolina   \n",
       "3          303          11       502  South Matthewfort        Delaware   \n",
       "4          407          18       458         East David     Mississippi   \n",
       "\n",
       "         date product_category   sales  quantity_sold  \n",
       "0  2024-06-23      Electronics  621.62              3  \n",
       "1  2024-06-05        Furniture  280.72              9  \n",
       "2  2024-11-13        Furniture  331.27              8  \n",
       "3  2024-09-28      Electronics  226.68              4  \n",
       "4  2024-06-25             Toys  112.53              9  "
      ]
     },
     "execution_count": 22,
     "metadata": {},
     "output_type": "execute_result"
    }
   ],
   "source": [
    "df.head()"
   ]
  },
  {
   "cell_type": "markdown",
   "id": "b750d53f-a30f-4c7f-af96-2ee8eae04373",
   "metadata": {},
   "source": [
    "### 🗃️ Exporting Dataset"
   ]
  },
  {
   "cell_type": "code",
   "execution_count": 34,
   "id": "fe421469-5adc-4ad7-bb75-08c8eba588b7",
   "metadata": {},
   "outputs": [],
   "source": [
    "# Save to CSV (Just Remove the # symbol from the next line of code to export)\n",
    "# df.to_csv('sales_data_2024.csv', index=False) "
   ]
  },
  {
   "cell_type": "markdown",
   "id": "bde5fe57-01c7-469c-b1ac-8b8512c9cdb7",
   "metadata": {},
   "source": [
    "## 🗂️ Dataset for 2023"
   ]
  },
  {
   "cell_type": "code",
   "execution_count": 29,
   "id": "53355c1c-80a1-43cf-b9de-97128358a12d",
   "metadata": {},
   "outputs": [],
   "source": [
    "# Set random seed for reproducibility\n",
    "np.random.seed(42)\n",
    "\n",
    "# Constants\n",
    "num_customers = 346\n",
    "num_orders = 923\n",
    "num_products = 20\n",
    "num_categories = 5\n",
    "\n",
    "# Generate customer IDs\n",
    "customer_ids = [f'C{str(i).zfill(3)}' for i in range(1, num_customers + 1)]\n",
    "\n",
    "# Generate product IDs and categories\n",
    "product_ids = [f'P{str(i).zfill(3)}' for i in range(1, num_products + 1)]\n",
    "categories = ['Electronics', 'Furniture', 'Clothing', 'Toys', 'Books']\n",
    "\n",
    "# Create a mapping of products to categories\n",
    "product_category_map = {product_id: random.choice(categories) for product_id in product_ids}\n",
    "\n",
    "# Generate states (sample data)\n",
    "states = [\"Alabama\", \"Alaska\", \"Arizona\", \"Arkansas\", \"California\", \"Colorado\", \"Connecticut\", \"Delaware\",\n",
    "          \"Florida\", \"Georgia\", \"Hawaii\", \"Idaho\", \"Illinois\", \"Indiana\", \"Iowa\", \"Kansas\", \"Kentucky\", \"Louisiana\",\n",
    "          \"Maine\", \"Maryland\", \"Massachusetts\", \"Michigan\", \"Minnesota\", \"Mississippi\", \"Missouri\", \"Montana\",\n",
    "          \"Nebraska\", \"Nevada\", \"New Hampshire\", \"New Jersey\", \"New Mexico\", \"New York\", \"North Carolina\",\n",
    "          \"North Dakota\", \"Ohio\", \"Oklahoma\", \"Oregon\", \"Pennsylvania\", \"Rhode Island\", \"South Carolina\", \"South Dakota\",\n",
    "          \"Tennessee\", \"Texas\", \"Utah\", \"Vermont\", \"Virginia\", \"Washington\", \"West Virginia\", \"Wisconsin\", \"Wyoming\"]\n",
    "\n",
    "# Generate cities (sample data)\n",
    "cities = [\"New York\", \"Los Angeles\", \"Chicago\", \"Houston\", \"Phoenix\", \"Philadelphia\", \"San Antonio\", \"San Diego\", \"Dallas\", \"San Jose\"]\n",
    "\n",
    "# Generate unique order IDs\n",
    "order_ids = [f'O{str(i).zfill(3)}' for i in range(1, num_orders + 1)]\n",
    "\n",
    "# Generate order data\n",
    "data_23 = []\n",
    "for i in range(num_orders):\n",
    "    customer_id = random.choice(customer_ids)\n",
    "    product_id = random.choice(product_ids)\n",
    "    order_id = order_ids[i]\n",
    "    city = random.choice(cities)\n",
    "    state = random.choice(states)\n",
    "    date = np.random.choice(pd.date_range(start='2023-01-01', end='2023-12-31'))\n",
    "    category = product_category_map[product_id]\n",
    "    sales = round(random.uniform(100, 1000), 2)\n",
    "    quantity_sold = random.randint(1, 10)\n",
    "    \n",
    "    data_23.append([customer_id, product_id, order_id, city, state, date, category, sales, quantity_sold])"
   ]
  },
  {
   "cell_type": "markdown",
   "id": "a5e113d8-377e-48b8-b076-efba06cfc031",
   "metadata": {},
   "source": [
    "### 🧱 Convert to DataFrame\n",
    "\n",
    "Convert the generated data dictionary into a `pandas` DataFrame."
   ]
  },
  {
   "cell_type": "code",
   "execution_count": 30,
   "id": "b5e32429-5d25-4486-8c58-d559d8f65067",
   "metadata": {},
   "outputs": [],
   "source": [
    "df_2023 =  pd.DataFrame(data_24, columns=['customer_id', 'product_id', 'order_id', 'City', 'State', 'Date', 'Product_Category', 'Sales', 'Quantity_Sold'])"
   ]
  },
  {
   "cell_type": "markdown",
   "id": "8305ca14-29c6-40c8-8bf7-cc2e5876beec",
   "metadata": {},
   "source": [
    "### 🔍 Preview the Data\n",
    "\n",
    "Display the first 5 records to validate the structure."
   ]
  },
  {
   "cell_type": "code",
   "execution_count": 31,
   "id": "79022638-c36c-4c08-8737-ff1876cc1b30",
   "metadata": {},
   "outputs": [
    {
     "name": "stdout",
     "output_type": "stream",
     "text": [
      "  customer_id product_id order_id         City          State       Date  \\\n",
      "0        C060       P003     O001  San Antonio        Montana 2023-04-13   \n",
      "1        C266       P007     O002  San Antonio         Hawaii 2023-12-15   \n",
      "2        C155       P017     O003       Dallas          Texas 2023-09-28   \n",
      "3        C158       P014     O004  Los Angeles    Connecticut 2023-04-17   \n",
      "4        C074       P009     O005      Houston  West Virginia 2023-03-13   \n",
      "\n",
      "  Product_Category   Sales  Quantity_Sold  \n",
      "0             Toys  735.46              2  \n",
      "1      Electronics  846.77              5  \n",
      "2            Books  897.99             10  \n",
      "3        Furniture  672.56              6  \n",
      "4      Electronics  458.17              5  \n"
     ]
    }
   ],
   "source": [
    "# Ensure the Date column is in datetime format\n",
    "df_2023['Date'] = pd.to_datetime(df_2023['Date'])\n",
    "\n",
    "# Display the first few rows of the DataFrame\n",
    "print(df_2024.head())"
   ]
  },
  {
   "cell_type": "code",
   "execution_count": 32,
   "id": "8ad69454-797c-4ba5-8ad8-484cf2f21caf",
   "metadata": {},
   "outputs": [
    {
     "data": {
      "text/html": [
       "<div>\n",
       "<style scoped>\n",
       "    .dataframe tbody tr th:only-of-type {\n",
       "        vertical-align: middle;\n",
       "    }\n",
       "\n",
       "    .dataframe tbody tr th {\n",
       "        vertical-align: top;\n",
       "    }\n",
       "\n",
       "    .dataframe thead th {\n",
       "        text-align: right;\n",
       "    }\n",
       "</style>\n",
       "<table border=\"1\" class=\"dataframe\">\n",
       "  <thead>\n",
       "    <tr style=\"text-align: right;\">\n",
       "      <th></th>\n",
       "      <th>customer_id</th>\n",
       "      <th>product_id</th>\n",
       "      <th>order_id</th>\n",
       "      <th>City</th>\n",
       "      <th>State</th>\n",
       "      <th>Date</th>\n",
       "      <th>Product_Category</th>\n",
       "      <th>Sales</th>\n",
       "      <th>Quantity_Sold</th>\n",
       "    </tr>\n",
       "  </thead>\n",
       "  <tbody>\n",
       "    <tr>\n",
       "      <th>0</th>\n",
       "      <td>C060</td>\n",
       "      <td>P003</td>\n",
       "      <td>O001</td>\n",
       "      <td>San Antonio</td>\n",
       "      <td>Montana</td>\n",
       "      <td>2023-04-13</td>\n",
       "      <td>Toys</td>\n",
       "      <td>735.46</td>\n",
       "      <td>2</td>\n",
       "    </tr>\n",
       "    <tr>\n",
       "      <th>1</th>\n",
       "      <td>C266</td>\n",
       "      <td>P007</td>\n",
       "      <td>O002</td>\n",
       "      <td>San Antonio</td>\n",
       "      <td>Hawaii</td>\n",
       "      <td>2023-12-15</td>\n",
       "      <td>Electronics</td>\n",
       "      <td>846.77</td>\n",
       "      <td>5</td>\n",
       "    </tr>\n",
       "    <tr>\n",
       "      <th>2</th>\n",
       "      <td>C155</td>\n",
       "      <td>P017</td>\n",
       "      <td>O003</td>\n",
       "      <td>Dallas</td>\n",
       "      <td>Texas</td>\n",
       "      <td>2023-09-28</td>\n",
       "      <td>Books</td>\n",
       "      <td>897.99</td>\n",
       "      <td>10</td>\n",
       "    </tr>\n",
       "    <tr>\n",
       "      <th>3</th>\n",
       "      <td>C158</td>\n",
       "      <td>P014</td>\n",
       "      <td>O004</td>\n",
       "      <td>Los Angeles</td>\n",
       "      <td>Connecticut</td>\n",
       "      <td>2023-04-17</td>\n",
       "      <td>Furniture</td>\n",
       "      <td>672.56</td>\n",
       "      <td>6</td>\n",
       "    </tr>\n",
       "    <tr>\n",
       "      <th>4</th>\n",
       "      <td>C074</td>\n",
       "      <td>P009</td>\n",
       "      <td>O005</td>\n",
       "      <td>Houston</td>\n",
       "      <td>West Virginia</td>\n",
       "      <td>2023-03-13</td>\n",
       "      <td>Electronics</td>\n",
       "      <td>458.17</td>\n",
       "      <td>5</td>\n",
       "    </tr>\n",
       "  </tbody>\n",
       "</table>\n",
       "</div>"
      ],
      "text/plain": [
       "  customer_id product_id order_id         City          State       Date  \\\n",
       "0        C060       P003     O001  San Antonio        Montana 2023-04-13   \n",
       "1        C266       P007     O002  San Antonio         Hawaii 2023-12-15   \n",
       "2        C155       P017     O003       Dallas          Texas 2023-09-28   \n",
       "3        C158       P014     O004  Los Angeles    Connecticut 2023-04-17   \n",
       "4        C074       P009     O005      Houston  West Virginia 2023-03-13   \n",
       "\n",
       "  Product_Category   Sales  Quantity_Sold  \n",
       "0             Toys  735.46              2  \n",
       "1      Electronics  846.77              5  \n",
       "2            Books  897.99             10  \n",
       "3        Furniture  672.56              6  \n",
       "4      Electronics  458.17              5  "
      ]
     },
     "execution_count": 32,
     "metadata": {},
     "output_type": "execute_result"
    }
   ],
   "source": [
    "df_2023.head()"
   ]
  },
  {
   "cell_type": "markdown",
   "id": "f07b724a-e9e0-4528-bcd4-7e96402bc95b",
   "metadata": {},
   "source": [
    "### 🗃️ Exporting Dataset"
   ]
  },
  {
   "cell_type": "code",
   "execution_count": 33,
   "id": "673dee51-d952-481e-8b75-6c58ccb59576",
   "metadata": {},
   "outputs": [],
   "source": [
    "# Save to CSV (Just Remove the # symbol from the next line of code to export)\n",
    "# df_2023.to_csv('sales_data_2023.csv', index=False) "
   ]
  }
 ],
 "metadata": {
  "kernelspec": {
   "display_name": "Python 3 (ipykernel)",
   "language": "python",
   "name": "python3"
  },
  "language_info": {
   "codemirror_mode": {
    "name": "ipython",
    "version": 3
   },
   "file_extension": ".py",
   "mimetype": "text/x-python",
   "name": "python",
   "nbconvert_exporter": "python",
   "pygments_lexer": "ipython3",
   "version": "3.13.3"
  }
 },
 "nbformat": 4,
 "nbformat_minor": 5
}
